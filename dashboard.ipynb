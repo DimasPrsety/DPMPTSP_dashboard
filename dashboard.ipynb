{
 "cells": [
  {
   "cell_type": "code",
   "execution_count": 2,
   "metadata": {},
   "outputs": [],
   "source": [
    "import streamlit as st\n",
    "from bokeh.plotting import figure\n",
    "from bokeh.io import output_file, show\n",
    "from bokeh.layouts import layout\n",
    "from bokeh.models import Div"
   ]
  },
  {
   "cell_type": "code",
   "execution_count": 3,
   "metadata": {},
   "outputs": [],
   "source": [
    "total_izin = 597\n",
    "average_izin = 712.1\n",
    "selesai_diproses = 433\n",
    "ditolak_dibatalkan = 163\n",
    "masih_diproses = 1"
   ]
  },
  {
   "cell_type": "code",
   "execution_count": 4,
   "metadata": {},
   "outputs": [],
   "source": [
    "# percentage\n",
    "selesai_perc = selesai_diproses / total_izin * 100\n",
    "ditolak_perc = ditolak_dibatalkan / total_izin * 100\n",
    "masih_perc = masih_diproses / total_izin * 100"
   ]
  },
  {
   "cell_type": "code",
   "execution_count": 6,
   "metadata": {},
   "outputs": [],
   "source": [
    "total_izin_box = Div(text = f\"\"\"\n",
    "    <div style = 'background-color: #f0f0f0; text-align:center; width: 200px; padding:10px;'>\n",
    "        <h2>{total_izin}</h2>\n",
    "        <p> Total Izin yang diajukan </p>\n",
    "    </div>\n",
    "\"\"\")\n",
    "\n",
    "average_izin_box = Div(text=f\"\"\"\n",
    "    <div style = 'background-color: #f0f0f0; text-align:center; width: 200px; padding:10px;'>\n",
    "        <p> in average</p>\n",
    "        <h4>{average_izin}</h4>\n",
    "        <p> total izin yang diajukan per kecamatan </p>\n",
    "    </div>\n",
    "\"\"\")\n",
    "\n",
    "selesai_izin_box = Div(text=f\"\"\"\n",
    "   <div style = 'background-color: #f0f0f0; text-align:center; width:200px; padding:10px;'>\n",
    "        <h2>{selesai_diproses}</h2> \n",
    "        <p> {round(selesai_perc, 1)}%</p>\n",
    "        <p> Selesai diproses </p>\n",
    "    </div>\n",
    "\"\"\")\n",
    "\n",
    "masih_diproses_box = Div(text=f\"\"\"\n",
    "    <div style = 'background-color: #f0f0f0; text-align:center; width:200px; padding:10px;'>\n",
    "        <h2>{masih_diproses}</h2>\n",
    "        <p>{round(masih_perc, 1)}%</p>\n",
    "        <o> Masih diproses</p>\n",
    "    </div>\n",
    "\"\"\")\n",
    "\n",
    "ditolak_izin_box = Div(text=f\"\"\"\n",
    "    <div style = 'background-color: #f0f0f0; text-align:center; width:200px; padding:10px;'>\n",
    "        <h2>{ditolak_dibatalkan}</h2>\n",
    "        <p>{round(ditolak_perc, 1)}%</p>\n",
    "        <o> Ditolak & Dibatalkan</p>\n",
    "    </div>\n",
    "\"\"\")"
   ]
  },
  {
   "cell_type": "code",
   "execution_count": 10,
   "metadata": {},
   "outputs": [],
   "source": [
    "layout_dashboard = layout([\n",
    "    [total_izin_box, average_izin_box]\n",
    "    , [selesai_izin_box, masih_diproses_box, ditolak_izin_box]\n",
    "])"
   ]
  },
  {
   "cell_type": "code",
   "execution_count": 11,
   "metadata": {},
   "outputs": [
    {
     "ename": "StreamlitAPIException",
     "evalue": "Streamlit only supports Bokeh version 2.4.3, but you have version 3.6.0 installed. Please run `pip install --force-reinstall --no-deps bokeh==2.4.3` to install the correct version.",
     "output_type": "error",
     "traceback": [
      "\u001b[0;31m---------------------------------------------------------------------------\u001b[0m",
      "\u001b[0;31mStreamlitAPIException\u001b[0m                     Traceback (most recent call last)",
      "Cell \u001b[0;32mIn[11], line 1\u001b[0m\n\u001b[0;32m----> 1\u001b[0m \u001b[43mst\u001b[49m\u001b[38;5;241;43m.\u001b[39;49m\u001b[43mbokeh_chart\u001b[49m\u001b[43m(\u001b[49m\u001b[43mlayout_dashboard\u001b[49m\u001b[43m)\u001b[49m\n",
      "File \u001b[0;32m/Library/Frameworks/Python.framework/Versions/3.12/lib/python3.12/site-packages/streamlit/runtime/metrics_util.py:410\u001b[0m, in \u001b[0;36mgather_metrics.<locals>.wrapped_func\u001b[0;34m(*args, **kwargs)\u001b[0m\n\u001b[1;32m    408\u001b[0m         _LOGGER\u001b[38;5;241m.\u001b[39mdebug(\u001b[38;5;124m\"\u001b[39m\u001b[38;5;124mFailed to collect command telemetry\u001b[39m\u001b[38;5;124m\"\u001b[39m, exc_info\u001b[38;5;241m=\u001b[39mex)\n\u001b[1;32m    409\u001b[0m \u001b[38;5;28;01mtry\u001b[39;00m:\n\u001b[0;32m--> 410\u001b[0m     result \u001b[38;5;241m=\u001b[39m \u001b[43mnon_optional_func\u001b[49m\u001b[43m(\u001b[49m\u001b[38;5;241;43m*\u001b[39;49m\u001b[43margs\u001b[49m\u001b[43m,\u001b[49m\u001b[43m \u001b[49m\u001b[38;5;241;43m*\u001b[39;49m\u001b[38;5;241;43m*\u001b[39;49m\u001b[43mkwargs\u001b[49m\u001b[43m)\u001b[49m\n\u001b[1;32m    411\u001b[0m \u001b[38;5;28;01mexcept\u001b[39;00m RerunException \u001b[38;5;28;01mas\u001b[39;00m ex:\n\u001b[1;32m    412\u001b[0m     \u001b[38;5;66;03m# Duplicated from below, because static analysis tools get confused\u001b[39;00m\n\u001b[1;32m    413\u001b[0m     \u001b[38;5;66;03m# by deferring the rethrow.\u001b[39;00m\n\u001b[1;32m    414\u001b[0m     \u001b[38;5;28;01mif\u001b[39;00m tracking_activated \u001b[38;5;129;01mand\u001b[39;00m command_telemetry:\n",
      "File \u001b[0;32m/Library/Frameworks/Python.framework/Versions/3.12/lib/python3.12/site-packages/streamlit/elements/bokeh_chart.py:86\u001b[0m, in \u001b[0;36mBokehMixin.bokeh_chart\u001b[0;34m(self, figure, use_container_width)\u001b[0m\n\u001b[1;32m     83\u001b[0m \u001b[38;5;28;01mimport\u001b[39;00m \u001b[38;5;21;01mbokeh\u001b[39;00m\n\u001b[1;32m     85\u001b[0m \u001b[38;5;28;01mif\u001b[39;00m bokeh\u001b[38;5;241m.\u001b[39m__version__ \u001b[38;5;241m!=\u001b[39m ST_BOKEH_VERSION:\n\u001b[0;32m---> 86\u001b[0m     \u001b[38;5;28;01mraise\u001b[39;00m StreamlitAPIException(\n\u001b[1;32m     87\u001b[0m         \u001b[38;5;124mf\u001b[39m\u001b[38;5;124m\"\u001b[39m\u001b[38;5;124mStreamlit only supports Bokeh version \u001b[39m\u001b[38;5;132;01m{\u001b[39;00mST_BOKEH_VERSION\u001b[38;5;132;01m}\u001b[39;00m\u001b[38;5;124m, \u001b[39m\u001b[38;5;124m\"\u001b[39m\n\u001b[1;32m     88\u001b[0m         \u001b[38;5;124mf\u001b[39m\u001b[38;5;124m\"\u001b[39m\u001b[38;5;124mbut you have version \u001b[39m\u001b[38;5;132;01m{\u001b[39;00mbokeh\u001b[38;5;241m.\u001b[39m__version__\u001b[38;5;132;01m}\u001b[39;00m\u001b[38;5;124m installed. Please \u001b[39m\u001b[38;5;124m\"\u001b[39m\n\u001b[1;32m     89\u001b[0m         \u001b[38;5;124mf\u001b[39m\u001b[38;5;124m\"\u001b[39m\u001b[38;5;124mrun `pip install --force-reinstall --no-deps bokeh==\u001b[39m\u001b[38;5;124m\"\u001b[39m\n\u001b[1;32m     90\u001b[0m         \u001b[38;5;124mf\u001b[39m\u001b[38;5;124m\"\u001b[39m\u001b[38;5;132;01m{\u001b[39;00mST_BOKEH_VERSION\u001b[38;5;132;01m}\u001b[39;00m\u001b[38;5;124m` to install the correct version.\u001b[39m\u001b[38;5;124m\"\u001b[39m\n\u001b[1;32m     91\u001b[0m     )\n\u001b[1;32m     93\u001b[0m \u001b[38;5;66;03m# Generate element ID from delta path\u001b[39;00m\n\u001b[1;32m     94\u001b[0m delta_path \u001b[38;5;241m=\u001b[39m \u001b[38;5;28mself\u001b[39m\u001b[38;5;241m.\u001b[39mdg\u001b[38;5;241m.\u001b[39m_get_delta_path_str()\n",
      "\u001b[0;31mStreamlitAPIException\u001b[0m: Streamlit only supports Bokeh version 2.4.3, but you have version 3.6.0 installed. Please run `pip install --force-reinstall --no-deps bokeh==2.4.3` to install the correct version."
     ]
    }
   ],
   "source": [
    "st.bokeh_chart(layout_dashboard)"
   ]
  },
  {
   "cell_type": "code",
   "execution_count": null,
   "metadata": {},
   "outputs": [],
   "source": []
  }
 ],
 "metadata": {
  "kernelspec": {
   "display_name": "Python 3",
   "language": "python",
   "name": "python3"
  },
  "language_info": {
   "codemirror_mode": {
    "name": "ipython",
    "version": 3
   },
   "file_extension": ".py",
   "mimetype": "text/x-python",
   "name": "python",
   "nbconvert_exporter": "python",
   "pygments_lexer": "ipython3",
   "version": "3.12.5"
  }
 },
 "nbformat": 4,
 "nbformat_minor": 2
}
